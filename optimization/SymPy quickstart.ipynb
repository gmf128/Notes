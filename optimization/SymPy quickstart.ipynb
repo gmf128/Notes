{
 "cells": [
  {
   "cell_type": "code",
   "execution_count": 2,
   "metadata": {},
   "outputs": [
    {
     "data": {
      "text/latex": [
       "$\\displaystyle x^{2} + 2 x + 1$"
      ],
      "text/plain": [
       "x**2 + 2*x + 1"
      ]
     },
     "execution_count": 2,
     "metadata": {},
     "output_type": "execute_result"
    }
   ],
   "source": [
    "from sympy import *\n",
    "\n",
    "x, y, z = symbols('x y z')\n",
    "y = expand((x + 1)**2) # expand() 是展开函数\n",
    "y"
   ]
  },
  {
   "cell_type": "code",
   "execution_count": 3,
   "metadata": {},
   "outputs": [
    {
     "data": {
      "text/latex": [
       "$\\displaystyle x_{\\mu}$"
      ],
      "text/plain": [
       "x_{\\mu}"
      ]
     },
     "execution_count": 3,
     "metadata": {},
     "output_type": "execute_result"
    }
   ],
   "source": [
    "# Define a symbol using Latex language\n",
    "\n",
    "x_mu = symbols('x_{\\mu}')\n",
    "x_mu"
   ]
  },
  {
   "cell_type": "code",
   "execution_count": 4,
   "metadata": {},
   "outputs": [
    {
     "data": {
      "text/latex": [
       "$\\displaystyle \\frac{1}{2}$"
      ],
      "text/plain": [
       "1/2"
      ]
     },
     "execution_count": 4,
     "metadata": {},
     "output_type": "execute_result"
    }
   ],
   "source": [
    "# Define a rational number\n",
    "\n",
    "z = Rational(1, 2)\n",
    "z"
   ]
  },
  {
   "cell_type": "code",
   "execution_count": 6,
   "metadata": {},
   "outputs": [
    {
     "data": {
      "text/latex": [
       "$\\displaystyle 2$"
      ],
      "text/plain": [
       "2"
      ]
     },
     "execution_count": 6,
     "metadata": {},
     "output_type": "execute_result"
    }
   ],
   "source": [
    "# Substitude a variable\n",
    "# this can be used to calculate the value of a expr\n",
    "\n",
    "expr = cos(x)+1\n",
    "expr.subs(x, 0)"
   ]
  },
  {
   "cell_type": "code",
   "execution_count": 7,
   "metadata": {},
   "outputs": [
    {
     "data": {
      "text/latex": [
       "$\\displaystyle x^{2} + 2 x + 1$"
      ],
      "text/plain": [
       "x**2 + 2*x + 1"
      ]
     },
     "execution_count": 7,
     "metadata": {},
     "output_type": "execute_result"
    }
   ],
   "source": [
    "# Sympify: turn a string into calculable expr\n",
    "# format: *, **\n",
    "\n",
    "str1 = \"x**2 + 2*x + 1\"\n",
    "str2 = \"e**x\"\n",
    "str3 = \"sin(x)/cos(x)\"\n",
    "expr1 = sympify(str1)\n",
    "expr2 = sympify(str2)\n",
    "expr3 = sympify(str3)\n",
    "expr1"
   ]
  },
  {
   "cell_type": "code",
   "execution_count": 8,
   "metadata": {},
   "outputs": [
    {
     "data": {
      "text/latex": [
       "$\\displaystyle e^{x}$"
      ],
      "text/plain": [
       "e**x"
      ]
     },
     "execution_count": 8,
     "metadata": {},
     "output_type": "execute_result"
    }
   ],
   "source": [
    "expr2"
   ]
  },
  {
   "cell_type": "code",
   "execution_count": 9,
   "metadata": {},
   "outputs": [
    {
     "data": {
      "text/latex": [
       "$\\displaystyle \\frac{\\sin{\\left(x \\right)}}{\\cos{\\left(x \\right)}}$"
      ],
      "text/plain": [
       "sin(x)/cos(x)"
      ]
     },
     "execution_count": 9,
     "metadata": {},
     "output_type": "execute_result"
    }
   ],
   "source": [
    "expr3"
   ]
  },
  {
   "cell_type": "code",
   "execution_count": 20,
   "metadata": {},
   "outputs": [
    {
     "data": {
      "text/latex": [
       "$\\displaystyle e^{3.0}$"
      ],
      "text/plain": [
       "e**3.0"
      ]
     },
     "execution_count": 20,
     "metadata": {},
     "output_type": "execute_result"
    }
   ],
   "source": [
    "# turn a expr to callable function\n",
    "import numpy as np\n",
    "\n",
    "x = symbols('x')\n",
    "# Why e^x has no arithmatic solution?\n",
    "f = lambdify(x, expr2, \"numpy\")\n",
    "a = 3.0\n",
    "f(a)"
   ]
  },
  {
   "cell_type": "code",
   "execution_count": 37,
   "metadata": {},
   "outputs": [
    {
     "data": {
      "text/latex": [
       "$\\displaystyle - \\frac{\\sqrt{2} \\log{\\left(2 - \\sqrt{2} \\right)}}{8} + \\frac{\\sqrt{2} \\log{\\left(\\sqrt{2} + 2 \\right)}}{8} + \\frac{\\sqrt{2} \\pi}{8}$"
      ],
      "text/plain": [
       "-sqrt(2)*log(2 - sqrt(2))/8 + sqrt(2)*log(sqrt(2) + 2)/8 + sqrt(2)*pi/8"
      ]
     },
     "execution_count": 37,
     "metadata": {},
     "output_type": "execute_result"
    }
   ],
   "source": [
    "# integration\n",
    "\n",
    "exprstr = '1 / (1+x**4)'\n",
    "expr = sympify(exprstr)\n",
    "expr\n",
    "i = integrate(expr, (x, 0, 1))\n",
    "i"
   ]
  },
  {
   "cell_type": "code",
   "execution_count": 39,
   "metadata": {},
   "outputs": [
    {
     "data": {
      "text/latex": [
       "$\\displaystyle - \\frac{4 x^{3}}{\\left(x^{4} + 1\\right)^{2}}$"
      ],
      "text/plain": [
       "-4*x**3/(x**4 + 1)**2"
      ]
     },
     "execution_count": 39,
     "metadata": {},
     "output_type": "execute_result"
    }
   ],
   "source": [
    "# diff\n",
    "\n",
    "diff(expr, x)"
   ]
  },
  {
   "cell_type": "code",
   "execution_count": 42,
   "metadata": {},
   "outputs": [
    {
     "data": {
      "text/latex": [
       "$\\displaystyle y z e^{x y z}$"
      ],
      "text/plain": [
       "y*z*exp(x*y*z)"
      ]
     },
     "execution_count": 42,
     "metadata": {},
     "output_type": "execute_result"
    }
   ],
   "source": [
    "# multi-variant diff\n",
    "y = symbols('y')\n",
    "expr = exp(x*y*z)\n",
    "diff(expr, x)"
   ]
  },
  {
   "cell_type": "code",
   "execution_count": 44,
   "metadata": {},
   "outputs": [
    {
     "data": {
      "text/latex": [
       "$\\displaystyle \\left[\\begin{matrix}y z e^{x y z} & x z e^{x y z} & x y e^{x y z}\\end{matrix}\\right]$"
      ],
      "text/plain": [
       "Matrix([[y*z*exp(x*y*z), x*z*exp(x*y*z), x*y*exp(x*y*z)]])"
      ]
     },
     "execution_count": 44,
     "metadata": {},
     "output_type": "execute_result"
    }
   ],
   "source": [
    "# Jacobian\n",
    "\n",
    "mapping = Matrix([expr])\n",
    "mapping.jacobian([x, y, z])"
   ]
  },
  {
   "cell_type": "code",
   "execution_count": 48,
   "metadata": {},
   "outputs": [
    {
     "data": {
      "text/latex": [
       "$\\displaystyle \\left[\\begin{matrix}y^{2} z^{2} e^{x y z} & x y z^{2} e^{x y z} + z e^{x y z} & x y^{2} z e^{x y z} + y e^{x y z}\\\\x y z^{2} e^{x y z} + z e^{x y z} & x^{2} z^{2} e^{x y z} & x^{2} y z e^{x y z} + x e^{x y z}\\\\x y^{2} z e^{x y z} + y e^{x y z} & x^{2} y z e^{x y z} + x e^{x y z} & x^{2} y^{2} e^{x y z}\\end{matrix}\\right]$"
      ],
      "text/plain": [
       "Matrix([\n",
       "[              y**2*z**2*exp(x*y*z), x*y*z**2*exp(x*y*z) + z*exp(x*y*z), x*y**2*z*exp(x*y*z) + y*exp(x*y*z)],\n",
       "[x*y*z**2*exp(x*y*z) + z*exp(x*y*z),               x**2*z**2*exp(x*y*z), x**2*y*z*exp(x*y*z) + x*exp(x*y*z)],\n",
       "[x*y**2*z*exp(x*y*z) + y*exp(x*y*z), x**2*y*z*exp(x*y*z) + x*exp(x*y*z),               x**2*y**2*exp(x*y*z)]])"
      ]
     },
     "execution_count": 48,
     "metadata": {},
     "output_type": "execute_result"
    }
   ],
   "source": [
    "# Hessian\n",
    "\n",
    "hessian(expr, [x, y, z])"
   ]
  },
  {
   "cell_type": "code",
   "execution_count": 49,
   "metadata": {},
   "outputs": [
    {
     "data": {
      "text/latex": [
       "$\\displaystyle \\left[\\begin{matrix}2 x + 1 & 0\\\\0 & 2 y + 1\\end{matrix}\\right]$"
      ],
      "text/plain": [
       "Matrix([\n",
       "[2*x + 1,       0],\n",
       "[      0, 2*y + 1]])"
      ]
     },
     "execution_count": 49,
     "metadata": {},
     "output_type": "execute_result"
    }
   ],
   "source": [
    "# Jacobian 2: mapping\n",
    "\n",
    "mapping = Matrix([\n",
    "    x**2 + x,\n",
    "    y**2 + y\n",
    "])\n",
    "mapping.jacobian([x, y])"
   ]
  },
  {
   "cell_type": "code",
   "execution_count": 13,
   "metadata": {},
   "outputs": [
    {
     "data": {
      "text/latex": [
       "$\\displaystyle \\frac{d}{d R{\\left(x \\right)}} \\Phi{\\left(R{\\left(x \\right)} \\right)} \\frac{d^{2}}{d x^{2}} R{\\left(x \\right)} + \\frac{d^{2}}{d R{\\left(x \\right)}^{2}} \\Phi{\\left(R{\\left(x \\right)} \\right)} \\left(\\frac{d}{d x} R{\\left(x \\right)}\\right)^{2}$"
      ],
      "text/plain": [
       "Derivative(Phi(R(x)), R(x))*Derivative(R(x), (x, 2)) + Derivative(Phi(R(x)), (R(x), 2))*Derivative(R(x), x)**2"
      ]
     },
     "execution_count": 13,
     "metadata": {},
     "output_type": "execute_result"
    }
   ],
   "source": [
    "# anonymous function\n",
    "\n",
    "x = symbols('x')\n",
    "R = symbols('R')\n",
    "Phi = symbols('\\Phi')\n",
    "expr = \"Phi(R(x))\"\n",
    "q = diff(expr, x)\n",
    "diff(q, x)"
   ]
  },
  {
   "cell_type": "code",
   "execution_count": null,
   "metadata": {},
   "outputs": [],
   "source": []
  }
 ],
 "metadata": {
  "kernelspec": {
   "display_name": "Python 3",
   "language": "python",
   "name": "python3"
  },
  "language_info": {
   "codemirror_mode": {
    "name": "ipython",
    "version": 3
   },
   "file_extension": ".py",
   "mimetype": "text/x-python",
   "name": "python",
   "nbconvert_exporter": "python",
   "pygments_lexer": "ipython3",
   "version": "3.8.5"
  }
 },
 "nbformat": 4,
 "nbformat_minor": 4
}
